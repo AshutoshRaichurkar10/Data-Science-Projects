{
 "cells": [
  {
   "cell_type": "markdown",
   "metadata": {},
   "source": [
    "\n",
    "\n",
    "# Modeling Rainfall with the $\\gamma$ distribution\n",
    "\n",
    "Let's practice what we learned. Let's build a **Bayesian model** for a dataset, so we can extract precise statistics from the model itself, rather than the data. \n",
    "\n",
    "### How to build a Bayesian model?\n",
    "* Look at the histogram of the data\n",
    "* Pick an analytic probability densiy function matching the shape of the histogram\n",
    "* Model its parameters (priors) as probability density functions\n",
    "* Try different shape and values of these parameters (these are called *hyperparameters*)\n",
    "* Run a probabilistic program to give us the posterior pdfs\n",
    "* Plot the posterior means on top of the histogram and check if we get a good match!\n",
    "\n",
    "Let's model rainfall data per calendar month for the city of Nashville, Tennessee. This is a classic problem in Bayesian estimation. Rainfall data is a great opportunity to introduce a new useful pdf to add to our portfolio: the $\\gamma$ distribution. \n",
    "\n",
    "</br >\n",
    "\n"
   ]
  },
  {
   "cell_type": "code",
   "execution_count": 3,
   "metadata": {},
   "outputs": [],
   "source": [
    "%matplotlib inline\n",
    "import numpy as np\n",
    "import pandas as pd\n",
    "import matplotlib.pylab as plt\n",
    "import seaborn as sns\n",
    "sns.set_context('notebook')\n",
    "\n",
    "RANDOM_SEED = 20090425"
   ]
  },
  {
   "cell_type": "markdown",
   "metadata": {},
   "source": [
    "## 1. The $\\gamma$ distribution\n",
    "\n",
    "This is the [gamma distribution](https://en.wikipedia.org/wiki/Gamma_distribution):\n",
    "\n",
    "<div style=\"font-size: 120%;\">  \n",
    "$$\\gamma(x) = \\frac{\\beta^\\alpha x^{\\alpha -1} e^{- \\beta x}}{\\Gamma (\\alpha)}$$\n",
    "</div>\n",
    "\n",
    "</br >\n",
    "<center>\n",
    "<img src=\"images/ohnonotmath.png\" width=\"300\" />\n",
    "</center>\n",
    "\n",
    "How many parameters in the gamma function?\n",
    "\n",
    "By the way, what is the $\\Gamma()$ function? It [interpolates](https://en.wikipedia.org/wiki/Gamma_function) the factorial function to non-integer values!\n",
    "\n",
    "This is what the $\\gamma$ function for $x > 0$ and $\\alpha, \\beta > 0$ looks like:\n",
    "\n",
    "</br >\n",
    "<center>\n",
    "<img src=\"https://upload.wikimedia.org/wikipedia/commons/e/e6/Gamma_distribution_pdf.svg\" width=\"500\" />\n",
    "Gamma distribution\n",
    "</center>"
   ]
  },
  {
   "cell_type": "markdown",
   "metadata": {},
   "source": [
    "## 2. Dataset: Nashville Precipitation\n",
    "\n",
    "The dataset `nashville_precip.txt` contains NOAA precipitation data for Nashville measured since 1871. Download it from blackboard and put it in the right folder (`C:/Users/<username>/data`). \n",
    "    \n",
    "The $\\gamma$ distribution happens to be a good fit to aggregated rainfall data, and will be our candidate model in this case. \n",
    "\n",
    "Let's peek at the data:"
   ]
  },
  {
   "cell_type": "code",
   "execution_count": 4,
   "metadata": {},
   "outputs": [
    {
     "data": {
      "text/html": [
       "<div>\n",
       "<style scoped>\n",
       "    .dataframe tbody tr th:only-of-type {\n",
       "        vertical-align: middle;\n",
       "    }\n",
       "\n",
       "    .dataframe tbody tr th {\n",
       "        vertical-align: top;\n",
       "    }\n",
       "\n",
       "    .dataframe thead th {\n",
       "        text-align: right;\n",
       "    }\n",
       "</style>\n",
       "<table border=\"1\" class=\"dataframe\">\n",
       "  <thead>\n",
       "    <tr style=\"text-align: right;\">\n",
       "      <th></th>\n",
       "      <th>Jan</th>\n",
       "      <th>Feb</th>\n",
       "      <th>Mar</th>\n",
       "      <th>Apr</th>\n",
       "      <th>May</th>\n",
       "      <th>Jun</th>\n",
       "      <th>Jul</th>\n",
       "      <th>Aug</th>\n",
       "      <th>Sep</th>\n",
       "      <th>Oct</th>\n",
       "      <th>Nov</th>\n",
       "      <th>Dec</th>\n",
       "    </tr>\n",
       "    <tr>\n",
       "      <th>Year</th>\n",
       "      <th></th>\n",
       "      <th></th>\n",
       "      <th></th>\n",
       "      <th></th>\n",
       "      <th></th>\n",
       "      <th></th>\n",
       "      <th></th>\n",
       "      <th></th>\n",
       "      <th></th>\n",
       "      <th></th>\n",
       "      <th></th>\n",
       "      <th></th>\n",
       "    </tr>\n",
       "  </thead>\n",
       "  <tbody>\n",
       "    <tr>\n",
       "      <th>2007</th>\n",
       "      <td>3.32</td>\n",
       "      <td>1.84</td>\n",
       "      <td>2.26</td>\n",
       "      <td>2.75</td>\n",
       "      <td>3.30</td>\n",
       "      <td>2.37</td>\n",
       "      <td>1.47</td>\n",
       "      <td>1.38</td>\n",
       "      <td>1.99</td>\n",
       "      <td>4.95</td>\n",
       "      <td>6.20</td>\n",
       "      <td>3.83</td>\n",
       "    </tr>\n",
       "    <tr>\n",
       "      <th>2008</th>\n",
       "      <td>4.76</td>\n",
       "      <td>2.53</td>\n",
       "      <td>5.56</td>\n",
       "      <td>7.20</td>\n",
       "      <td>5.54</td>\n",
       "      <td>2.21</td>\n",
       "      <td>4.32</td>\n",
       "      <td>1.67</td>\n",
       "      <td>0.88</td>\n",
       "      <td>5.03</td>\n",
       "      <td>1.75</td>\n",
       "      <td>6.72</td>\n",
       "    </tr>\n",
       "    <tr>\n",
       "      <th>2009</th>\n",
       "      <td>4.59</td>\n",
       "      <td>2.85</td>\n",
       "      <td>2.92</td>\n",
       "      <td>4.13</td>\n",
       "      <td>8.45</td>\n",
       "      <td>4.53</td>\n",
       "      <td>6.03</td>\n",
       "      <td>2.14</td>\n",
       "      <td>11.08</td>\n",
       "      <td>6.49</td>\n",
       "      <td>0.67</td>\n",
       "      <td>3.99</td>\n",
       "    </tr>\n",
       "    <tr>\n",
       "      <th>2010</th>\n",
       "      <td>4.13</td>\n",
       "      <td>2.77</td>\n",
       "      <td>3.52</td>\n",
       "      <td>3.48</td>\n",
       "      <td>16.43</td>\n",
       "      <td>4.96</td>\n",
       "      <td>5.86</td>\n",
       "      <td>6.99</td>\n",
       "      <td>1.17</td>\n",
       "      <td>2.49</td>\n",
       "      <td>5.41</td>\n",
       "      <td>1.87</td>\n",
       "    </tr>\n",
       "    <tr>\n",
       "      <th>2011</th>\n",
       "      <td>2.31</td>\n",
       "      <td>5.54</td>\n",
       "      <td>4.59</td>\n",
       "      <td>7.51</td>\n",
       "      <td>4.38</td>\n",
       "      <td>5.04</td>\n",
       "      <td>3.46</td>\n",
       "      <td>1.78</td>\n",
       "      <td>6.20</td>\n",
       "      <td>0.93</td>\n",
       "      <td>6.15</td>\n",
       "      <td>4.25</td>\n",
       "    </tr>\n",
       "  </tbody>\n",
       "</table>\n",
       "</div>"
      ],
      "text/plain": [
       "       Jan   Feb   Mar   Apr    May   Jun   Jul   Aug    Sep   Oct   Nov   Dec\n",
       "Year                                                                          \n",
       "2007  3.32  1.84  2.26  2.75   3.30  2.37  1.47  1.38   1.99  4.95  6.20  3.83\n",
       "2008  4.76  2.53  5.56  7.20   5.54  2.21  4.32  1.67   0.88  5.03  1.75  6.72\n",
       "2009  4.59  2.85  2.92  4.13   8.45  4.53  6.03  2.14  11.08  6.49  0.67  3.99\n",
       "2010  4.13  2.77  3.52  3.48  16.43  4.96  5.86  6.99   1.17  2.49  5.41  1.87\n",
       "2011  2.31  5.54  4.59  7.51   4.38  5.04  3.46  1.78   6.20  0.93  6.15  4.25"
      ]
     },
     "execution_count": 4,
     "metadata": {},
     "output_type": "execute_result"
    }
   ],
   "source": [
    "precip = pd.read_table(\"data/nashville_precip.txt\", index_col=0, na_values='NA', delim_whitespace=True)\n",
    "precip.tail()"
   ]
  },
  {
   "cell_type": "markdown",
   "metadata": {},
   "source": [
    "Let's do some data exploration.."
   ]
  },
  {
   "cell_type": "code",
   "execution_count": 5,
   "metadata": {},
   "outputs": [
    {
     "data": {
      "image/png": "[encoded data removed]",
      "text/plain": [
       "<Figure size 432x288 with 12 Axes>"
      ]
     },
     "metadata": {
      "needs_background": "light"
     },
     "output_type": "display_data"
    }
   ],
   "source": [
    "_ = precip.hist(sharex=True, sharey=True, grid=False)\n",
    "plt.tight_layout()"
   ]
  },
  {
   "cell_type": "markdown",
   "metadata": {},
   "source": [
    "The first step is recognizing what sort of distribution to fit our data to. A couple of observations:\n",
    "\n",
    "1. The data is *skewed*, with a longer tail to the right than to the left\n",
    "2. The data is *positive-valued*, since they are measuring rainfall\n",
    "3. The data is *continuous*\n",
    "\n",
    "There are a few possible choices, but a good option is the [gamma distribution](https://en.wikipedia.org/wiki/Gamma_distribution). If $x$ measures rainfall:\n",
    "\n",
    "<div style=\"font-size: 120%;\">  \n",
    "$$x \\sim \\gamma(\\alpha, \\beta) = \\frac{\\beta^{\\alpha}x^{\\alpha-1}e^{-\\beta x}}{\\Gamma(\\alpha)}$$\n",
    "</div>\n",
    "\n",
    "The gamma distribution is often used to model the size of [insurance claims](https://www.crcpress.com/Statistical-and-Probabilistic-Methods-in-Actuarial-Science/Boland/p/book/9781584886952) and [rainfalls](http://journals.tubitak.gov.tr/engineering/issues/muh-00-24-6/muh-24-6-7-9909-13.pdf). This means that aggregate insurance claims and the amount of rainfall accumulated in a reservoir are usually well modelled by a gamma process.\n"
   ]
  },
  {
   "cell_type": "markdown",
   "metadata": {},
   "source": [
    "## 3. Data Cleansing \n",
    "\n",
    "Wait a sec.. There's something wrong with our data.. if you open it in a text editor, you will find a value of NA for October of 1963 (take a look!). So we have to do some data cleansing first (remember the first step in data science from Lecture 1?). Given what we are trying to do, it is sensible to fill in the missing value with the **average of the available values** (another option would have been the average of the months of September and November 1963).\n"
   ]
  },
  {
   "cell_type": "code",
   "execution_count": 6,
   "metadata": {},
   "outputs": [
    {
     "data": {
      "text/html": [
       "<div>\n",
       "<style scoped>\n",
       "    .dataframe tbody tr th:only-of-type {\n",
       "        vertical-align: middle;\n",
       "    }\n",
       "\n",
       "    .dataframe tbody tr th {\n",
       "        vertical-align: top;\n",
       "    }\n",
       "\n",
       "    .dataframe thead th {\n",
       "        text-align: right;\n",
       "    }\n",
       "</style>\n",
       "<table border=\"1\" class=\"dataframe\">\n",
       "  <thead>\n",
       "    <tr style=\"text-align: right;\">\n",
       "      <th></th>\n",
       "      <th>Jan</th>\n",
       "      <th>Feb</th>\n",
       "      <th>Mar</th>\n",
       "      <th>Apr</th>\n",
       "      <th>May</th>\n",
       "      <th>Jun</th>\n",
       "      <th>Jul</th>\n",
       "      <th>Aug</th>\n",
       "      <th>Sep</th>\n",
       "      <th>Oct</th>\n",
       "      <th>Nov</th>\n",
       "      <th>Dec</th>\n",
       "    </tr>\n",
       "    <tr>\n",
       "      <th>Year</th>\n",
       "      <th></th>\n",
       "      <th></th>\n",
       "      <th></th>\n",
       "      <th></th>\n",
       "      <th></th>\n",
       "      <th></th>\n",
       "      <th></th>\n",
       "      <th></th>\n",
       "      <th></th>\n",
       "      <th></th>\n",
       "      <th></th>\n",
       "      <th></th>\n",
       "    </tr>\n",
       "  </thead>\n",
       "  <tbody>\n",
       "    <tr>\n",
       "      <th>1871</th>\n",
       "      <td>2.76</td>\n",
       "      <td>4.58</td>\n",
       "      <td>5.01</td>\n",
       "      <td>4.13</td>\n",
       "      <td>3.30</td>\n",
       "      <td>2.98</td>\n",
       "      <td>1.58</td>\n",
       "      <td>2.36</td>\n",
       "      <td>0.95</td>\n",
       "      <td>1.31</td>\n",
       "      <td>2.13</td>\n",
       "      <td>1.65</td>\n",
       "    </tr>\n",
       "    <tr>\n",
       "      <th>1872</th>\n",
       "      <td>2.32</td>\n",
       "      <td>2.11</td>\n",
       "      <td>3.14</td>\n",
       "      <td>5.91</td>\n",
       "      <td>3.09</td>\n",
       "      <td>5.17</td>\n",
       "      <td>6.10</td>\n",
       "      <td>1.65</td>\n",
       "      <td>4.50</td>\n",
       "      <td>1.58</td>\n",
       "      <td>2.25</td>\n",
       "      <td>2.38</td>\n",
       "    </tr>\n",
       "    <tr>\n",
       "      <th>1873</th>\n",
       "      <td>2.96</td>\n",
       "      <td>7.14</td>\n",
       "      <td>4.11</td>\n",
       "      <td>3.59</td>\n",
       "      <td>6.31</td>\n",
       "      <td>4.20</td>\n",
       "      <td>4.63</td>\n",
       "      <td>2.36</td>\n",
       "      <td>1.81</td>\n",
       "      <td>4.28</td>\n",
       "      <td>4.36</td>\n",
       "      <td>5.94</td>\n",
       "    </tr>\n",
       "    <tr>\n",
       "      <th>1874</th>\n",
       "      <td>5.22</td>\n",
       "      <td>9.23</td>\n",
       "      <td>5.36</td>\n",
       "      <td>11.84</td>\n",
       "      <td>1.49</td>\n",
       "      <td>2.87</td>\n",
       "      <td>2.65</td>\n",
       "      <td>3.52</td>\n",
       "      <td>3.12</td>\n",
       "      <td>2.63</td>\n",
       "      <td>6.12</td>\n",
       "      <td>4.19</td>\n",
       "    </tr>\n",
       "    <tr>\n",
       "      <th>1875</th>\n",
       "      <td>6.15</td>\n",
       "      <td>3.06</td>\n",
       "      <td>8.14</td>\n",
       "      <td>4.22</td>\n",
       "      <td>1.73</td>\n",
       "      <td>5.63</td>\n",
       "      <td>8.12</td>\n",
       "      <td>1.60</td>\n",
       "      <td>3.79</td>\n",
       "      <td>1.25</td>\n",
       "      <td>5.46</td>\n",
       "      <td>4.30</td>\n",
       "    </tr>\n",
       "    <tr>\n",
       "      <th>1876</th>\n",
       "      <td>6.41</td>\n",
       "      <td>2.22</td>\n",
       "      <td>5.28</td>\n",
       "      <td>3.62</td>\n",
       "      <td>3.40</td>\n",
       "      <td>5.65</td>\n",
       "      <td>7.15</td>\n",
       "      <td>5.77</td>\n",
       "      <td>2.52</td>\n",
       "      <td>2.68</td>\n",
       "      <td>1.26</td>\n",
       "      <td>0.95</td>\n",
       "    </tr>\n",
       "    <tr>\n",
       "      <th>1877</th>\n",
       "      <td>4.05</td>\n",
       "      <td>1.06</td>\n",
       "      <td>4.98</td>\n",
       "      <td>9.47</td>\n",
       "      <td>1.25</td>\n",
       "      <td>6.02</td>\n",
       "      <td>3.25</td>\n",
       "      <td>4.16</td>\n",
       "      <td>5.40</td>\n",
       "      <td>2.61</td>\n",
       "      <td>4.93</td>\n",
       "      <td>2.49</td>\n",
       "    </tr>\n",
       "    <tr>\n",
       "      <th>1878</th>\n",
       "      <td>3.34</td>\n",
       "      <td>2.10</td>\n",
       "      <td>3.48</td>\n",
       "      <td>6.88</td>\n",
       "      <td>2.33</td>\n",
       "      <td>3.28</td>\n",
       "      <td>9.43</td>\n",
       "      <td>5.02</td>\n",
       "      <td>1.28</td>\n",
       "      <td>2.17</td>\n",
       "      <td>3.20</td>\n",
       "      <td>6.04</td>\n",
       "    </tr>\n",
       "    <tr>\n",
       "      <th>1879</th>\n",
       "      <td>6.32</td>\n",
       "      <td>3.13</td>\n",
       "      <td>3.81</td>\n",
       "      <td>2.88</td>\n",
       "      <td>2.88</td>\n",
       "      <td>2.50</td>\n",
       "      <td>8.47</td>\n",
       "      <td>4.62</td>\n",
       "      <td>5.18</td>\n",
       "      <td>2.90</td>\n",
       "      <td>5.85</td>\n",
       "      <td>9.15</td>\n",
       "    </tr>\n",
       "    <tr>\n",
       "      <th>1880</th>\n",
       "      <td>3.74</td>\n",
       "      <td>12.37</td>\n",
       "      <td>8.16</td>\n",
       "      <td>5.26</td>\n",
       "      <td>4.13</td>\n",
       "      <td>3.97</td>\n",
       "      <td>5.69</td>\n",
       "      <td>2.22</td>\n",
       "      <td>5.39</td>\n",
       "      <td>7.24</td>\n",
       "      <td>5.77</td>\n",
       "      <td>3.32</td>\n",
       "    </tr>\n",
       "    <tr>\n",
       "      <th>1881</th>\n",
       "      <td>3.54</td>\n",
       "      <td>5.48</td>\n",
       "      <td>2.79</td>\n",
       "      <td>5.12</td>\n",
       "      <td>3.67</td>\n",
       "      <td>3.70</td>\n",
       "      <td>0.86</td>\n",
       "      <td>1.81</td>\n",
       "      <td>6.57</td>\n",
       "      <td>4.80</td>\n",
       "      <td>4.89</td>\n",
       "      <td>4.85</td>\n",
       "    </tr>\n",
       "    <tr>\n",
       "      <th>1882</th>\n",
       "      <td>14.51</td>\n",
       "      <td>8.61</td>\n",
       "      <td>9.38</td>\n",
       "      <td>3.59</td>\n",
       "      <td>7.38</td>\n",
       "      <td>2.54</td>\n",
       "      <td>4.06</td>\n",
       "      <td>5.54</td>\n",
       "      <td>1.61</td>\n",
       "      <td>1.11</td>\n",
       "      <td>3.60</td>\n",
       "      <td>1.52</td>\n",
       "    </tr>\n",
       "    <tr>\n",
       "      <th>1883</th>\n",
       "      <td>3.76</td>\n",
       "      <td>7.90</td>\n",
       "      <td>3.98</td>\n",
       "      <td>9.12</td>\n",
       "      <td>4.82</td>\n",
       "      <td>3.82</td>\n",
       "      <td>4.94</td>\n",
       "      <td>4.47</td>\n",
       "      <td>2.23</td>\n",
       "      <td>5.27</td>\n",
       "      <td>3.11</td>\n",
       "      <td>4.97</td>\n",
       "    </tr>\n",
       "    <tr>\n",
       "      <th>1884</th>\n",
       "      <td>7.20</td>\n",
       "      <td>8.18</td>\n",
       "      <td>8.89</td>\n",
       "      <td>3.51</td>\n",
       "      <td>3.58</td>\n",
       "      <td>6.53</td>\n",
       "      <td>3.18</td>\n",
       "      <td>2.81</td>\n",
       "      <td>2.36</td>\n",
       "      <td>2.43</td>\n",
       "      <td>1.57</td>\n",
       "      <td>3.78</td>\n",
       "    </tr>\n",
       "    <tr>\n",
       "      <th>1885</th>\n",
       "      <td>6.29</td>\n",
       "      <td>2.00</td>\n",
       "      <td>2.33</td>\n",
       "      <td>3.75</td>\n",
       "      <td>4.36</td>\n",
       "      <td>3.72</td>\n",
       "      <td>5.26</td>\n",
       "      <td>1.02</td>\n",
       "      <td>5.60</td>\n",
       "      <td>2.99</td>\n",
       "      <td>2.73</td>\n",
       "      <td>2.90</td>\n",
       "    </tr>\n",
       "    <tr>\n",
       "      <th>1886</th>\n",
       "      <td>5.18</td>\n",
       "      <td>3.82</td>\n",
       "      <td>4.76</td>\n",
       "      <td>2.36</td>\n",
       "      <td>2.10</td>\n",
       "      <td>7.69</td>\n",
       "      <td>1.90</td>\n",
       "      <td>5.50</td>\n",
       "      <td>3.68</td>\n",
       "      <td>0.51</td>\n",
       "      <td>5.76</td>\n",
       "      <td>1.48</td>\n",
       "    </tr>\n",
       "    <tr>\n",
       "      <th>1887</th>\n",
       "      <td>5.13</td>\n",
       "      <td>8.47</td>\n",
       "      <td>3.36</td>\n",
       "      <td>2.67</td>\n",
       "      <td>3.43</td>\n",
       "      <td>2.31</td>\n",
       "      <td>3.77</td>\n",
       "      <td>2.89</td>\n",
       "      <td>6.85</td>\n",
       "      <td>1.92</td>\n",
       "      <td>2.29</td>\n",
       "      <td>5.31</td>\n",
       "    </tr>\n",
       "    <tr>\n",
       "      <th>1888</th>\n",
       "      <td>6.29</td>\n",
       "      <td>3.78</td>\n",
       "      <td>6.46</td>\n",
       "      <td>4.18</td>\n",
       "      <td>2.97</td>\n",
       "      <td>4.68</td>\n",
       "      <td>2.36</td>\n",
       "      <td>7.03</td>\n",
       "      <td>3.82</td>\n",
       "      <td>2.82</td>\n",
       "      <td>4.33</td>\n",
       "      <td>1.77</td>\n",
       "    </tr>\n",
       "    <tr>\n",
       "      <th>1889</th>\n",
       "      <td>3.83</td>\n",
       "      <td>1.84</td>\n",
       "      <td>2.47</td>\n",
       "      <td>2.83</td>\n",
       "      <td>5.30</td>\n",
       "      <td>5.33</td>\n",
       "      <td>2.74</td>\n",
       "      <td>1.57</td>\n",
       "      <td>6.81</td>\n",
       "      <td>1.54</td>\n",
       "      <td>6.88</td>\n",
       "      <td>1.17</td>\n",
       "    </tr>\n",
       "    <tr>\n",
       "      <th>1890</th>\n",
       "      <td>8.10</td>\n",
       "      <td>10.95</td>\n",
       "      <td>8.64</td>\n",
       "      <td>3.84</td>\n",
       "      <td>4.16</td>\n",
       "      <td>2.23</td>\n",
       "      <td>0.46</td>\n",
       "      <td>6.59</td>\n",
       "      <td>5.86</td>\n",
       "      <td>3.01</td>\n",
       "      <td>2.01</td>\n",
       "      <td>4.12</td>\n",
       "    </tr>\n",
       "    <tr>\n",
       "      <th>1891</th>\n",
       "      <td>6.15</td>\n",
       "      <td>6.96</td>\n",
       "      <td>10.31</td>\n",
       "      <td>2.24</td>\n",
       "      <td>2.39</td>\n",
       "      <td>6.50</td>\n",
       "      <td>1.49</td>\n",
       "      <td>3.72</td>\n",
       "      <td>1.25</td>\n",
       "      <td>0.84</td>\n",
       "      <td>6.71</td>\n",
       "      <td>4.26</td>\n",
       "    </tr>\n",
       "    <tr>\n",
       "      <th>1892</th>\n",
       "      <td>2.81</td>\n",
       "      <td>2.73</td>\n",
       "      <td>4.10</td>\n",
       "      <td>7.45</td>\n",
       "      <td>4.03</td>\n",
       "      <td>5.01</td>\n",
       "      <td>5.13</td>\n",
       "      <td>3.39</td>\n",
       "      <td>4.78</td>\n",
       "      <td>0.25</td>\n",
       "      <td>3.91</td>\n",
       "      <td>6.43</td>\n",
       "    </tr>\n",
       "    <tr>\n",
       "      <th>1893</th>\n",
       "      <td>1.27</td>\n",
       "      <td>4.88</td>\n",
       "      <td>3.37</td>\n",
       "      <td>4.11</td>\n",
       "      <td>7.31</td>\n",
       "      <td>4.74</td>\n",
       "      <td>2.12</td>\n",
       "      <td>1.92</td>\n",
       "      <td>6.43</td>\n",
       "      <td>3.68</td>\n",
       "      <td>2.97</td>\n",
       "      <td>3.50</td>\n",
       "    </tr>\n",
       "    <tr>\n",
       "      <th>1894</th>\n",
       "      <td>4.28</td>\n",
       "      <td>8.65</td>\n",
       "      <td>2.69</td>\n",
       "      <td>4.05</td>\n",
       "      <td>2.53</td>\n",
       "      <td>3.55</td>\n",
       "      <td>5.45</td>\n",
       "      <td>2.43</td>\n",
       "      <td>3.07</td>\n",
       "      <td>0.53</td>\n",
       "      <td>1.92</td>\n",
       "      <td>2.81</td>\n",
       "    </tr>\n",
       "    <tr>\n",
       "      <th>1895</th>\n",
       "      <td>5.71</td>\n",
       "      <td>0.98</td>\n",
       "      <td>5.09</td>\n",
       "      <td>3.07</td>\n",
       "      <td>2.05</td>\n",
       "      <td>2.90</td>\n",
       "      <td>7.14</td>\n",
       "      <td>1.40</td>\n",
       "      <td>6.69</td>\n",
       "      <td>1.57</td>\n",
       "      <td>2.14</td>\n",
       "      <td>4.09</td>\n",
       "    </tr>\n",
       "    <tr>\n",
       "      <th>1896</th>\n",
       "      <td>1.37</td>\n",
       "      <td>3.65</td>\n",
       "      <td>6.45</td>\n",
       "      <td>2.92</td>\n",
       "      <td>4.05</td>\n",
       "      <td>1.82</td>\n",
       "      <td>7.33</td>\n",
       "      <td>1.40</td>\n",
       "      <td>2.74</td>\n",
       "      <td>0.98</td>\n",
       "      <td>5.71</td>\n",
       "      <td>1.79</td>\n",
       "    </tr>\n",
       "    <tr>\n",
       "      <th>1897</th>\n",
       "      <td>3.13</td>\n",
       "      <td>3.84</td>\n",
       "      <td>8.49</td>\n",
       "      <td>5.79</td>\n",
       "      <td>1.22</td>\n",
       "      <td>1.82</td>\n",
       "      <td>8.53</td>\n",
       "      <td>2.34</td>\n",
       "      <td>0.19</td>\n",
       "      <td>0.92</td>\n",
       "      <td>2.83</td>\n",
       "      <td>4.93</td>\n",
       "    </tr>\n",
       "    <tr>\n",
       "      <th>1898</th>\n",
       "      <td>9.46</td>\n",
       "      <td>0.63</td>\n",
       "      <td>5.36</td>\n",
       "      <td>3.16</td>\n",
       "      <td>1.80</td>\n",
       "      <td>4.97</td>\n",
       "      <td>4.50</td>\n",
       "      <td>6.56</td>\n",
       "      <td>4.87</td>\n",
       "      <td>3.21</td>\n",
       "      <td>3.09</td>\n",
       "      <td>2.41</td>\n",
       "    </tr>\n",
       "    <tr>\n",
       "      <th>1899</th>\n",
       "      <td>5.59</td>\n",
       "      <td>5.19</td>\n",
       "      <td>7.81</td>\n",
       "      <td>3.25</td>\n",
       "      <td>3.36</td>\n",
       "      <td>0.75</td>\n",
       "      <td>6.44</td>\n",
       "      <td>2.53</td>\n",
       "      <td>1.50</td>\n",
       "      <td>1.83</td>\n",
       "      <td>1.55</td>\n",
       "      <td>4.64</td>\n",
       "    </tr>\n",
       "    <tr>\n",
       "      <th>1900</th>\n",
       "      <td>2.61</td>\n",
       "      <td>3.80</td>\n",
       "      <td>2.20</td>\n",
       "      <td>4.04</td>\n",
       "      <td>1.86</td>\n",
       "      <td>10.35</td>\n",
       "      <td>2.87</td>\n",
       "      <td>1.24</td>\n",
       "      <td>4.55</td>\n",
       "      <td>3.93</td>\n",
       "      <td>8.87</td>\n",
       "      <td>2.22</td>\n",
       "    </tr>\n",
       "    <tr>\n",
       "      <th>...</th>\n",
       "      <td>...</td>\n",
       "      <td>...</td>\n",
       "      <td>...</td>\n",
       "      <td>...</td>\n",
       "      <td>...</td>\n",
       "      <td>...</td>\n",
       "      <td>...</td>\n",
       "      <td>...</td>\n",
       "      <td>...</td>\n",
       "      <td>...</td>\n",
       "      <td>...</td>\n",
       "      <td>...</td>\n",
       "    </tr>\n",
       "    <tr>\n",
       "      <th>1982</th>\n",
       "      <td>6.50</td>\n",
       "      <td>4.80</td>\n",
       "      <td>3.00</td>\n",
       "      <td>4.36</td>\n",
       "      <td>4.19</td>\n",
       "      <td>2.28</td>\n",
       "      <td>5.47</td>\n",
       "      <td>3.46</td>\n",
       "      <td>3.23</td>\n",
       "      <td>1.91</td>\n",
       "      <td>3.87</td>\n",
       "      <td>6.36</td>\n",
       "    </tr>\n",
       "    <tr>\n",
       "      <th>1983</th>\n",
       "      <td>2.56</td>\n",
       "      <td>2.93</td>\n",
       "      <td>3.44</td>\n",
       "      <td>6.80</td>\n",
       "      <td>11.04</td>\n",
       "      <td>3.93</td>\n",
       "      <td>1.71</td>\n",
       "      <td>1.36</td>\n",
       "      <td>0.45</td>\n",
       "      <td>2.77</td>\n",
       "      <td>6.98</td>\n",
       "      <td>7.75</td>\n",
       "    </tr>\n",
       "    <tr>\n",
       "      <th>1984</th>\n",
       "      <td>1.79</td>\n",
       "      <td>2.38</td>\n",
       "      <td>5.14</td>\n",
       "      <td>8.41</td>\n",
       "      <td>9.68</td>\n",
       "      <td>4.49</td>\n",
       "      <td>6.63</td>\n",
       "      <td>2.42</td>\n",
       "      <td>0.97</td>\n",
       "      <td>6.00</td>\n",
       "      <td>6.20</td>\n",
       "      <td>2.38</td>\n",
       "    </tr>\n",
       "    <tr>\n",
       "      <th>1985</th>\n",
       "      <td>3.02</td>\n",
       "      <td>3.30</td>\n",
       "      <td>2.70</td>\n",
       "      <td>2.91</td>\n",
       "      <td>2.65</td>\n",
       "      <td>1.53</td>\n",
       "      <td>2.00</td>\n",
       "      <td>3.91</td>\n",
       "      <td>2.52</td>\n",
       "      <td>1.59</td>\n",
       "      <td>3.81</td>\n",
       "      <td>0.98</td>\n",
       "    </tr>\n",
       "    <tr>\n",
       "      <th>1986</th>\n",
       "      <td>0.19</td>\n",
       "      <td>3.59</td>\n",
       "      <td>2.29</td>\n",
       "      <td>0.52</td>\n",
       "      <td>3.36</td>\n",
       "      <td>2.38</td>\n",
       "      <td>0.77</td>\n",
       "      <td>3.38</td>\n",
       "      <td>2.19</td>\n",
       "      <td>2.19</td>\n",
       "      <td>7.43</td>\n",
       "      <td>3.31</td>\n",
       "    </tr>\n",
       "    <tr>\n",
       "      <th>1987</th>\n",
       "      <td>1.61</td>\n",
       "      <td>4.87</td>\n",
       "      <td>1.18</td>\n",
       "      <td>1.03</td>\n",
       "      <td>4.41</td>\n",
       "      <td>2.82</td>\n",
       "      <td>2.56</td>\n",
       "      <td>0.73</td>\n",
       "      <td>1.95</td>\n",
       "      <td>0.21</td>\n",
       "      <td>3.40</td>\n",
       "      <td>5.46</td>\n",
       "    </tr>\n",
       "    <tr>\n",
       "      <th>1988</th>\n",
       "      <td>3.73</td>\n",
       "      <td>2.02</td>\n",
       "      <td>2.18</td>\n",
       "      <td>2.09</td>\n",
       "      <td>1.86</td>\n",
       "      <td>0.45</td>\n",
       "      <td>3.26</td>\n",
       "      <td>2.39</td>\n",
       "      <td>2.45</td>\n",
       "      <td>1.54</td>\n",
       "      <td>5.49</td>\n",
       "      <td>3.95</td>\n",
       "    </tr>\n",
       "    <tr>\n",
       "      <th>1989</th>\n",
       "      <td>4.52</td>\n",
       "      <td>9.36</td>\n",
       "      <td>5.31</td>\n",
       "      <td>2.68</td>\n",
       "      <td>4.61</td>\n",
       "      <td>7.87</td>\n",
       "      <td>3.18</td>\n",
       "      <td>3.67</td>\n",
       "      <td>6.30</td>\n",
       "      <td>3.62</td>\n",
       "      <td>3.94</td>\n",
       "      <td>1.97</td>\n",
       "    </tr>\n",
       "    <tr>\n",
       "      <th>1990</th>\n",
       "      <td>2.76</td>\n",
       "      <td>4.73</td>\n",
       "      <td>3.26</td>\n",
       "      <td>1.60</td>\n",
       "      <td>2.80</td>\n",
       "      <td>2.37</td>\n",
       "      <td>4.86</td>\n",
       "      <td>3.12</td>\n",
       "      <td>2.13</td>\n",
       "      <td>4.41</td>\n",
       "      <td>4.29</td>\n",
       "      <td>10.76</td>\n",
       "    </tr>\n",
       "    <tr>\n",
       "      <th>1991</th>\n",
       "      <td>2.92</td>\n",
       "      <td>5.44</td>\n",
       "      <td>4.25</td>\n",
       "      <td>3.35</td>\n",
       "      <td>5.63</td>\n",
       "      <td>1.25</td>\n",
       "      <td>2.82</td>\n",
       "      <td>1.79</td>\n",
       "      <td>5.47</td>\n",
       "      <td>3.88</td>\n",
       "      <td>2.87</td>\n",
       "      <td>7.27</td>\n",
       "    </tr>\n",
       "    <tr>\n",
       "      <th>1992</th>\n",
       "      <td>2.97</td>\n",
       "      <td>2.60</td>\n",
       "      <td>4.50</td>\n",
       "      <td>0.77</td>\n",
       "      <td>3.12</td>\n",
       "      <td>4.31</td>\n",
       "      <td>5.89</td>\n",
       "      <td>3.25</td>\n",
       "      <td>3.45</td>\n",
       "      <td>1.62</td>\n",
       "      <td>4.48</td>\n",
       "      <td>2.88</td>\n",
       "    </tr>\n",
       "    <tr>\n",
       "      <th>1993</th>\n",
       "      <td>2.76</td>\n",
       "      <td>3.33</td>\n",
       "      <td>5.50</td>\n",
       "      <td>3.33</td>\n",
       "      <td>4.50</td>\n",
       "      <td>5.31</td>\n",
       "      <td>3.64</td>\n",
       "      <td>1.76</td>\n",
       "      <td>2.90</td>\n",
       "      <td>2.20</td>\n",
       "      <td>2.53</td>\n",
       "      <td>6.62</td>\n",
       "    </tr>\n",
       "    <tr>\n",
       "      <th>1994</th>\n",
       "      <td>4.36</td>\n",
       "      <td>6.18</td>\n",
       "      <td>7.56</td>\n",
       "      <td>5.72</td>\n",
       "      <td>3.76</td>\n",
       "      <td>8.08</td>\n",
       "      <td>4.82</td>\n",
       "      <td>5.05</td>\n",
       "      <td>4.20</td>\n",
       "      <td>3.31</td>\n",
       "      <td>4.04</td>\n",
       "      <td>2.69</td>\n",
       "    </tr>\n",
       "    <tr>\n",
       "      <th>1995</th>\n",
       "      <td>5.61</td>\n",
       "      <td>1.81</td>\n",
       "      <td>3.87</td>\n",
       "      <td>3.95</td>\n",
       "      <td>7.66</td>\n",
       "      <td>3.69</td>\n",
       "      <td>1.95</td>\n",
       "      <td>3.40</td>\n",
       "      <td>5.00</td>\n",
       "      <td>5.60</td>\n",
       "      <td>3.98</td>\n",
       "      <td>2.32</td>\n",
       "    </tr>\n",
       "    <tr>\n",
       "      <th>1996</th>\n",
       "      <td>3.82</td>\n",
       "      <td>2.46</td>\n",
       "      <td>5.15</td>\n",
       "      <td>3.68</td>\n",
       "      <td>4.48</td>\n",
       "      <td>3.68</td>\n",
       "      <td>5.45</td>\n",
       "      <td>1.09</td>\n",
       "      <td>4.88</td>\n",
       "      <td>3.16</td>\n",
       "      <td>6.00</td>\n",
       "      <td>4.77</td>\n",
       "    </tr>\n",
       "    <tr>\n",
       "      <th>1997</th>\n",
       "      <td>4.19</td>\n",
       "      <td>3.10</td>\n",
       "      <td>9.64</td>\n",
       "      <td>2.42</td>\n",
       "      <td>4.92</td>\n",
       "      <td>6.66</td>\n",
       "      <td>3.26</td>\n",
       "      <td>3.52</td>\n",
       "      <td>5.75</td>\n",
       "      <td>2.71</td>\n",
       "      <td>6.59</td>\n",
       "      <td>2.19</td>\n",
       "    </tr>\n",
       "    <tr>\n",
       "      <th>1998</th>\n",
       "      <td>3.68</td>\n",
       "      <td>4.11</td>\n",
       "      <td>3.13</td>\n",
       "      <td>6.31</td>\n",
       "      <td>4.46</td>\n",
       "      <td>11.95</td>\n",
       "      <td>4.63</td>\n",
       "      <td>2.93</td>\n",
       "      <td>1.39</td>\n",
       "      <td>1.59</td>\n",
       "      <td>1.30</td>\n",
       "      <td>6.53</td>\n",
       "    </tr>\n",
       "    <tr>\n",
       "      <th>1999</th>\n",
       "      <td>9.28</td>\n",
       "      <td>2.33</td>\n",
       "      <td>4.27</td>\n",
       "      <td>2.29</td>\n",
       "      <td>4.35</td>\n",
       "      <td>3.56</td>\n",
       "      <td>3.19</td>\n",
       "      <td>3.05</td>\n",
       "      <td>1.97</td>\n",
       "      <td>2.04</td>\n",
       "      <td>2.99</td>\n",
       "      <td>2.50</td>\n",
       "    </tr>\n",
       "    <tr>\n",
       "      <th>2000</th>\n",
       "      <td>3.52</td>\n",
       "      <td>3.75</td>\n",
       "      <td>3.34</td>\n",
       "      <td>6.23</td>\n",
       "      <td>7.66</td>\n",
       "      <td>1.74</td>\n",
       "      <td>2.25</td>\n",
       "      <td>1.95</td>\n",
       "      <td>1.90</td>\n",
       "      <td>0.26</td>\n",
       "      <td>6.39</td>\n",
       "      <td>3.44</td>\n",
       "    </tr>\n",
       "    <tr>\n",
       "      <th>2001</th>\n",
       "      <td>3.21</td>\n",
       "      <td>8.54</td>\n",
       "      <td>2.73</td>\n",
       "      <td>2.42</td>\n",
       "      <td>5.54</td>\n",
       "      <td>4.47</td>\n",
       "      <td>2.77</td>\n",
       "      <td>4.07</td>\n",
       "      <td>1.79</td>\n",
       "      <td>4.61</td>\n",
       "      <td>5.09</td>\n",
       "      <td>3.32</td>\n",
       "    </tr>\n",
       "    <tr>\n",
       "      <th>2002</th>\n",
       "      <td>4.93</td>\n",
       "      <td>1.99</td>\n",
       "      <td>9.40</td>\n",
       "      <td>4.31</td>\n",
       "      <td>3.98</td>\n",
       "      <td>3.76</td>\n",
       "      <td>5.64</td>\n",
       "      <td>3.13</td>\n",
       "      <td>6.29</td>\n",
       "      <td>4.48</td>\n",
       "      <td>2.91</td>\n",
       "      <td>5.81</td>\n",
       "    </tr>\n",
       "    <tr>\n",
       "      <th>2003</th>\n",
       "      <td>1.59</td>\n",
       "      <td>8.47</td>\n",
       "      <td>2.30</td>\n",
       "      <td>4.69</td>\n",
       "      <td>10.73</td>\n",
       "      <td>7.08</td>\n",
       "      <td>2.87</td>\n",
       "      <td>3.88</td>\n",
       "      <td>8.70</td>\n",
       "      <td>1.80</td>\n",
       "      <td>4.17</td>\n",
       "      <td>3.19</td>\n",
       "    </tr>\n",
       "    <tr>\n",
       "      <th>2004</th>\n",
       "      <td>3.60</td>\n",
       "      <td>5.77</td>\n",
       "      <td>4.81</td>\n",
       "      <td>6.69</td>\n",
       "      <td>6.90</td>\n",
       "      <td>3.39</td>\n",
       "      <td>3.19</td>\n",
       "      <td>4.24</td>\n",
       "      <td>4.55</td>\n",
       "      <td>4.90</td>\n",
       "      <td>5.21</td>\n",
       "      <td>5.93</td>\n",
       "    </tr>\n",
       "    <tr>\n",
       "      <th>2005</th>\n",
       "      <td>4.42</td>\n",
       "      <td>3.84</td>\n",
       "      <td>3.90</td>\n",
       "      <td>6.93</td>\n",
       "      <td>1.03</td>\n",
       "      <td>2.70</td>\n",
       "      <td>2.39</td>\n",
       "      <td>6.89</td>\n",
       "      <td>1.44</td>\n",
       "      <td>0.02</td>\n",
       "      <td>3.29</td>\n",
       "      <td>2.46</td>\n",
       "    </tr>\n",
       "    <tr>\n",
       "      <th>2006</th>\n",
       "      <td>6.57</td>\n",
       "      <td>2.69</td>\n",
       "      <td>2.90</td>\n",
       "      <td>4.14</td>\n",
       "      <td>4.95</td>\n",
       "      <td>2.19</td>\n",
       "      <td>2.64</td>\n",
       "      <td>5.20</td>\n",
       "      <td>4.00</td>\n",
       "      <td>2.98</td>\n",
       "      <td>4.05</td>\n",
       "      <td>3.41</td>\n",
       "    </tr>\n",
       "    <tr>\n",
       "      <th>2007</th>\n",
       "      <td>3.32</td>\n",
       "      <td>1.84</td>\n",
       "      <td>2.26</td>\n",
       "      <td>2.75</td>\n",
       "      <td>3.30</td>\n",
       "      <td>2.37</td>\n",
       "      <td>1.47</td>\n",
       "      <td>1.38</td>\n",
       "      <td>1.99</td>\n",
       "      <td>4.95</td>\n",
       "      <td>6.20</td>\n",
       "      <td>3.83</td>\n",
       "    </tr>\n",
       "    <tr>\n",
       "      <th>2008</th>\n",
       "      <td>4.76</td>\n",
       "      <td>2.53</td>\n",
       "      <td>5.56</td>\n",
       "      <td>7.20</td>\n",
       "      <td>5.54</td>\n",
       "      <td>2.21</td>\n",
       "      <td>4.32</td>\n",
       "      <td>1.67</td>\n",
       "      <td>0.88</td>\n",
       "      <td>5.03</td>\n",
       "      <td>1.75</td>\n",
       "      <td>6.72</td>\n",
       "    </tr>\n",
       "    <tr>\n",
       "      <th>2009</th>\n",
       "      <td>4.59</td>\n",
       "      <td>2.85</td>\n",
       "      <td>2.92</td>\n",
       "      <td>4.13</td>\n",
       "      <td>8.45</td>\n",
       "      <td>4.53</td>\n",
       "      <td>6.03</td>\n",
       "      <td>2.14</td>\n",
       "      <td>11.08</td>\n",
       "      <td>6.49</td>\n",
       "      <td>0.67</td>\n",
       "      <td>3.99</td>\n",
       "    </tr>\n",
       "    <tr>\n",
       "      <th>2010</th>\n",
       "      <td>4.13</td>\n",
       "      <td>2.77</td>\n",
       "      <td>3.52</td>\n",
       "      <td>3.48</td>\n",
       "      <td>16.43</td>\n",
       "      <td>4.96</td>\n",
       "      <td>5.86</td>\n",
       "      <td>6.99</td>\n",
       "      <td>1.17</td>\n",
       "      <td>2.49</td>\n",
       "      <td>5.41</td>\n",
       "      <td>1.87</td>\n",
       "    </tr>\n",
       "    <tr>\n",
       "      <th>2011</th>\n",
       "      <td>2.31</td>\n",
       "      <td>5.54</td>\n",
       "      <td>4.59</td>\n",
       "      <td>7.51</td>\n",
       "      <td>4.38</td>\n",
       "      <td>5.04</td>\n",
       "      <td>3.46</td>\n",
       "      <td>1.78</td>\n",
       "      <td>6.20</td>\n",
       "      <td>0.93</td>\n",
       "      <td>6.15</td>\n",
       "      <td>4.25</td>\n",
       "    </tr>\n",
       "  </tbody>\n",
       "</table>\n",
       "<p>141 rows × 12 columns</p>\n",
       "</div>"
      ],
      "text/plain": [
       "        Jan    Feb    Mar    Apr    May    Jun   Jul   Aug    Sep   Oct   Nov  \\\n",
       "Year                                                                            \n",
       "1871   2.76   4.58   5.01   4.13   3.30   2.98  1.58  2.36   0.95  1.31  2.13   \n",
       "1872   2.32   2.11   3.14   5.91   3.09   5.17  6.10  1.65   4.50  1.58  2.25   \n",
       "1873   2.96   7.14   4.11   3.59   6.31   4.20  4.63  2.36   1.81  4.28  4.36   \n",
       "1874   5.22   9.23   5.36  11.84   1.49   2.87  2.65  3.52   3.12  2.63  6.12   \n",
       "1875   6.15   3.06   8.14   4.22   1.73   5.63  8.12  1.60   3.79  1.25  5.46   \n",
       "1876   6.41   2.22   5.28   3.62   3.40   5.65  7.15  5.77   2.52  2.68  1.26   \n",
       "1877   4.05   1.06   4.98   9.47   1.25   6.02  3.25  4.16   5.40  2.61  4.93   \n",
       "1878   3.34   2.10   3.48   6.88   2.33   3.28  9.43  5.02   1.28  2.17  3.20   \n",
       "1879   6.32   3.13   3.81   2.88   2.88   2.50  8.47  4.62   5.18  2.90  5.85   \n",
       "1880   3.74  12.37   8.16   5.26   4.13   3.97  5.69  2.22   5.39  7.24  5.77   \n",
       "1881   3.54   5.48   2.79   5.12   3.67   3.70  0.86  1.81   6.57  4.80  4.89   \n",
       "1882  14.51   8.61   9.38   3.59   7.38   2.54  4.06  5.54   1.61  1.11  3.60   \n",
       "1883   3.76   7.90   3.98   9.12   4.82   3.82  4.94  4.47   2.23  5.27  3.11   \n",
       "1884   7.20   8.18   8.89   3.51   3.58   6.53  3.18  2.81   2.36  2.43  1.57   \n",
       "1885   6.29   2.00   2.33   3.75   4.36   3.72  5.26  1.02   5.60  2.99  2.73   \n",
       "1886   5.18   3.82   4.76   2.36   2.10   7.69  1.90  5.50   3.68  0.51  5.76   \n",
       "1887   5.13   8.47   3.36   2.67   3.43   2.31  3.77  2.89   6.85  1.92  2.29   \n",
       "1888   6.29   3.78   6.46   4.18   2.97   4.68  2.36  7.03   3.82  2.82  4.33   \n",
       "1889   3.83   1.84   2.47   2.83   5.30   5.33  2.74  1.57   6.81  1.54  6.88   \n",
       "1890   8.10  10.95   8.64   3.84   4.16   2.23  0.46  6.59   5.86  3.01  2.01   \n",
       "1891   6.15   6.96  10.31   2.24   2.39   6.50  1.49  3.72   1.25  0.84  6.71   \n",
       "1892   2.81   2.73   4.10   7.45   4.03   5.01  5.13  3.39   4.78  0.25  3.91   \n",
       "1893   1.27   4.88   3.37   4.11   7.31   4.74  2.12  1.92   6.43  3.68  2.97   \n",
       "1894   4.28   8.65   2.69   4.05   2.53   3.55  5.45  2.43   3.07  0.53  1.92   \n",
       "1895   5.71   0.98   5.09   3.07   2.05   2.90  7.14  1.40   6.69  1.57  2.14   \n",
       "1896   1.37   3.65   6.45   2.92   4.05   1.82  7.33  1.40   2.74  0.98  5.71   \n",
       "1897   3.13   3.84   8.49   5.79   1.22   1.82  8.53  2.34   0.19  0.92  2.83   \n",
       "1898   9.46   0.63   5.36   3.16   1.80   4.97  4.50  6.56   4.87  3.21  3.09   \n",
       "1899   5.59   5.19   7.81   3.25   3.36   0.75  6.44  2.53   1.50  1.83  1.55   \n",
       "1900   2.61   3.80   2.20   4.04   1.86  10.35  2.87  1.24   4.55  3.93  8.87   \n",
       "...     ...    ...    ...    ...    ...    ...   ...   ...    ...   ...   ...   \n",
       "1982   6.50   4.80   3.00   4.36   4.19   2.28  5.47  3.46   3.23  1.91  3.87   \n",
       "1983   2.56   2.93   3.44   6.80  11.04   3.93  1.71  1.36   0.45  2.77  6.98   \n",
       "1984   1.79   2.38   5.14   8.41   9.68   4.49  6.63  2.42   0.97  6.00  6.20   \n",
       "1985   3.02   3.30   2.70   2.91   2.65   1.53  2.00  3.91   2.52  1.59  3.81   \n",
       "1986   0.19   3.59   2.29   0.52   3.36   2.38  0.77  3.38   2.19  2.19  7.43   \n",
       "1987   1.61   4.87   1.18   1.03   4.41   2.82  2.56  0.73   1.95  0.21  3.40   \n",
       "1988   3.73   2.02   2.18   2.09   1.86   0.45  3.26  2.39   2.45  1.54  5.49   \n",
       "1989   4.52   9.36   5.31   2.68   4.61   7.87  3.18  3.67   6.30  3.62  3.94   \n",
       "1990   2.76   4.73   3.26   1.60   2.80   2.37  4.86  3.12   2.13  4.41  4.29   \n",
       "1991   2.92   5.44   4.25   3.35   5.63   1.25  2.82  1.79   5.47  3.88  2.87   \n",
       "1992   2.97   2.60   4.50   0.77   3.12   4.31  5.89  3.25   3.45  1.62  4.48   \n",
       "1993   2.76   3.33   5.50   3.33   4.50   5.31  3.64  1.76   2.90  2.20  2.53   \n",
       "1994   4.36   6.18   7.56   5.72   3.76   8.08  4.82  5.05   4.20  3.31  4.04   \n",
       "1995   5.61   1.81   3.87   3.95   7.66   3.69  1.95  3.40   5.00  5.60  3.98   \n",
       "1996   3.82   2.46   5.15   3.68   4.48   3.68  5.45  1.09   4.88  3.16  6.00   \n",
       "1997   4.19   3.10   9.64   2.42   4.92   6.66  3.26  3.52   5.75  2.71  6.59   \n",
       "1998   3.68   4.11   3.13   6.31   4.46  11.95  4.63  2.93   1.39  1.59  1.30   \n",
       "1999   9.28   2.33   4.27   2.29   4.35   3.56  3.19  3.05   1.97  2.04  2.99   \n",
       "2000   3.52   3.75   3.34   6.23   7.66   1.74  2.25  1.95   1.90  0.26  6.39   \n",
       "2001   3.21   8.54   2.73   2.42   5.54   4.47  2.77  4.07   1.79  4.61  5.09   \n",
       "2002   4.93   1.99   9.40   4.31   3.98   3.76  5.64  3.13   6.29  4.48  2.91   \n",
       "2003   1.59   8.47   2.30   4.69  10.73   7.08  2.87  3.88   8.70  1.80  4.17   \n",
       "2004   3.60   5.77   4.81   6.69   6.90   3.39  3.19  4.24   4.55  4.90  5.21   \n",
       "2005   4.42   3.84   3.90   6.93   1.03   2.70  2.39  6.89   1.44  0.02  3.29   \n",
       "2006   6.57   2.69   2.90   4.14   4.95   2.19  2.64  5.20   4.00  2.98  4.05   \n",
       "2007   3.32   1.84   2.26   2.75   3.30   2.37  1.47  1.38   1.99  4.95  6.20   \n",
       "2008   4.76   2.53   5.56   7.20   5.54   2.21  4.32  1.67   0.88  5.03  1.75   \n",
       "2009   4.59   2.85   2.92   4.13   8.45   4.53  6.03  2.14  11.08  6.49  0.67   \n",
       "2010   4.13   2.77   3.52   3.48  16.43   4.96  5.86  6.99   1.17  2.49  5.41   \n",
       "2011   2.31   5.54   4.59   7.51   4.38   5.04  3.46  1.78   6.20  0.93  6.15   \n",
       "\n",
       "        Dec  \n",
       "Year         \n",
       "1871   1.65  \n",
       "1872   2.38  \n",
       "1873   5.94  \n",
       "1874   4.19  \n",
       "1875   4.30  \n",
       "1876   0.95  \n",
       "1877   2.49  \n",
       "1878   6.04  \n",
       "1879   9.15  \n",
       "1880   3.32  \n",
       "1881   4.85  \n",
       "1882   1.52  \n",
       "1883   4.97  \n",
       "1884   3.78  \n",
       "1885   2.90  \n",
       "1886   1.48  \n",
       "1887   5.31  \n",
       "1888   1.77  \n",
       "1889   1.17  \n",
       "1890   4.12  \n",
       "1891   4.26  \n",
       "1892   6.43  \n",
       "1893   3.50  \n",
       "1894   2.81  \n",
       "1895   4.09  \n",
       "1896   1.79  \n",
       "1897   4.93  \n",
       "1898   2.41  \n",
       "1899   4.64  \n",
       "1900   2.22  \n",
       "...     ...  \n",
       "1982   6.36  \n",
       "1983   7.75  \n",
       "1984   2.38  \n",
       "1985   0.98  \n",
       "1986   3.31  \n",
       "1987   5.46  \n",
       "1988   3.95  \n",
       "1989   1.97  \n",
       "1990  10.76  \n",
       "1991   7.27  \n",
       "1992   2.88  \n",
       "1993   6.62  \n",
       "1994   2.69  \n",
       "1995   2.32  \n",
       "1996   4.77  \n",
       "1997   2.19  \n",
       "1998   6.53  \n",
       "1999   2.50  \n",
       "2000   3.44  \n",
       "2001   3.32  \n",
       "2002   5.81  \n",
       "2003   3.19  \n",
       "2004   5.93  \n",
       "2005   2.46  \n",
       "2006   3.41  \n",
       "2007   3.83  \n",
       "2008   6.72  \n",
       "2009   3.99  \n",
       "2010   1.87  \n",
       "2011   4.25  \n",
       "\n",
       "[141 rows x 12 columns]"
      ]
     },
     "execution_count": 6,
     "metadata": {},
     "output_type": "execute_result"
    }
   ],
   "source": [
    "precip.fillna(value={'Oct': precip.Oct.mean()}, inplace=True)\n",
    "precip"
   ]
  },
  {
   "cell_type": "markdown",
   "metadata": {},
   "source": [
    "## 4. Exploration\n",
    "\n",
    "Let's calculate the **means** and **variances** of precipitation, month by month:"
   ]
  },
  {
   "cell_type": "code",
   "execution_count": 7,
   "metadata": {},
   "outputs": [
    {
     "data": {
      "text/plain": [
       "Jan    4.523688\n",
       "Feb    4.097801\n",
       "Mar    4.977589\n",
       "Apr    4.204468\n",
       "May    4.325674\n",
       "Jun    3.873475\n",
       "Jul    3.895461\n",
       "Aug    3.367305\n",
       "Sep    3.377660\n",
       "Oct    2.610500\n",
       "Nov    3.685887\n",
       "Dec    4.176241\n",
       "dtype: float64"
      ]
     },
     "execution_count": 7,
     "metadata": {},
     "output_type": "execute_result"
    }
   ],
   "source": [
    "precip_mean = precip.mean()\n",
    "precip_mean"
   ]
  },
  {
   "cell_type": "code",
   "execution_count": 8,
   "metadata": {},
   "outputs": [
    {
     "data": {
      "text/plain": [
       "Jan    6.928862\n",
       "Feb    5.516660\n",
       "Mar    5.365444\n",
       "Apr    4.117096\n",
       "May    5.306409\n",
       "Jun    5.033206\n",
       "Jul    3.777012\n",
       "Aug    3.779876\n",
       "Sep    4.940099\n",
       "Oct    2.741659\n",
       "Nov    3.679274\n",
       "Dec    5.418022\n",
       "dtype: float64"
      ]
     },
     "execution_count": 8,
     "metadata": {},
     "output_type": "execute_result"
    }
   ],
   "source": [
    "precip_var = precip.var()\n",
    "precip_var"
   ]
  },
  {
   "cell_type": "code",
   "execution_count": 9,
   "metadata": {},
   "outputs": [
    {
     "data": {
      "text/plain": [
       "Year\n",
       "1871     4.13\n",
       "1872     5.91\n",
       "1873     3.59\n",
       "1874    11.84\n",
       "1875     4.22\n",
       "1876     3.62\n",
       "1877     9.47\n",
       "1878     6.88\n",
       "1879     2.88\n",
       "1880     5.26\n",
       "1881     5.12\n",
       "1882     3.59\n",
       "1883     9.12\n",
       "1884     3.51\n",
       "1885     3.75\n",
       "1886     2.36\n",
       "1887     2.67\n",
       "1888     4.18\n",
       "1889     2.83\n",
       "1890     3.84\n",
       "1891     2.24\n",
       "1892     7.45\n",
       "1893     4.11\n",
       "1894     4.05\n",
       "1895     3.07\n",
       "1896     2.92\n",
       "1897     5.79\n",
       "1898     3.16\n",
       "1899     3.25\n",
       "1900     4.04\n",
       "        ...  \n",
       "1982     4.36\n",
       "1983     6.80\n",
       "1984     8.41\n",
       "1985     2.91\n",
       "1986     0.52\n",
       "1987     1.03\n",
       "1988     2.09\n",
       "1989     2.68\n",
       "1990     1.60\n",
       "1991     3.35\n",
       "1992     0.77\n",
       "1993     3.33\n",
       "1994     5.72\n",
       "1995     3.95\n",
       "1996     3.68\n",
       "1997     2.42\n",
       "1998     6.31\n",
       "1999     2.29\n",
       "2000     6.23\n",
       "2001     2.42\n",
       "2002     4.31\n",
       "2003     4.69\n",
       "2004     6.69\n",
       "2005     6.93\n",
       "2006     4.14\n",
       "2007     2.75\n",
       "2008     7.20\n",
       "2009     4.13\n",
       "2010     3.48\n",
       "2011     7.51\n",
       "Name: Apr, Length: 141, dtype: float64"
      ]
     },
     "execution_count": 9,
     "metadata": {},
     "output_type": "execute_result"
    }
   ],
   "source": [
    "precip.Apr"
   ]
  },
  {
   "cell_type": "markdown",
   "metadata": {},
   "source": [
    "Ok, now comes the most complicated part of Bayesian estimation: Let's pick pdfs for the $\\gamma$ distribution's parameters $\\alpha$ and $\\beta$. We're taking numbers, and modeling them as distributions, so that we can take a probabilistic program to figure out the best values for these parameters. If you understand this, then you understand the most complicated part of Bayesian estimation theory!\n",
    "\n",
    "Let's firt try to model rainfall for the month of April, only.\n"
   ]
  },
  {
   "cell_type": "code",
   "execution_count": 10,
   "metadata": {},
   "outputs": [
    {
     "name": "stderr",
     "output_type": "stream",
     "text": [
      "/Users/ramesh0101/anaconda3/lib/python3.7/site-packages/pandas/plotting/_core.py:2481: MatplotlibDeprecationWarning: \n",
      "The 'normed' kwarg was deprecated in Matplotlib 2.1 and will be removed in 3.1. Use 'density' instead.\n",
      "  ax.hist(values, bins=bins, **kwds)\n"
     ]
    },
    {
     "data": {
      "text/plain": [
       "<matplotlib.axes._subplots.AxesSubplot at 0x1c27165d30>"
      ]
     },
     "execution_count": 10,
     "metadata": {},
     "output_type": "execute_result"
    },
    {
     "data": {
      "image/png": "[encoded data removed]",
      "text/plain": [
       "<Figure size 432x288 with 1 Axes>"
      ]
     },
     "metadata": {
      "needs_background": "light"
     },
     "output_type": "display_data"
    }
   ],
   "source": [
    "precip.Apr.hist(normed=True, bins=30)"
   ]
  },
  {
   "cell_type": "markdown",
   "metadata": {},
   "source": [
    "### Exercise 1:\n",
    "\n",
    "Start with the `Uniform` distribution. Rainfall for the month of April seems to go from 0 to 12 units, so let's pick the Uniform distribution to model the $\\alpha$ parameter for our gamma function. The Uniform distribution also needs start and end parameters. We pick them to be wide enough to match the data. Then we model april rainfall with the Gamme distribution.\n",
    "\n",
    "This is the modeling part:\n",
    "\n",
    "```python\n",
    "from pymc3 import Model, Uniform\n",
    "\n",
    "with Model() as rainfall_model:\n",
    "    ualpha = Uniform('ualpha', lower=0, upper=15)\n",
    "    ubeta = Uniform('ubeta', lower=0, upper=15)\n",
    "    \n",
    "with rainfall_model:\n",
    "    april_like = Gamma('april_like', alpha=ualpha, beta=ubeta, observed=precip.Apr)\n",
    "```\n",
    "\n",
    "This is the simulation part (the probabilistic program that yields the best values for parameters $\\alpha$ and $\\beta$). Be patient:\n",
    "```python\n",
    "from pymc3 import fit\n",
    "\n",
    "with rainfall_model: \n",
    "    rainfall_trace = fit(random_seed=RANDOM_SEED).sample(1000)\n",
    "```\n",
    "\n",
    "And this is how we plot our posterior pdf for rainfall (our model for april):\n",
    "```python\n",
    "from pymc3 import plot_posterior\n",
    "\n",
    "plot_posterior(rainfall_trace[100:], \n",
    "                varnames=['ualpha', 'ubeta'],\n",
    "                color='#87ceeb');\n",
    "```\n",
    "\n",
    "Then we check if our posterior model matches our histogram. If it does, we say \"we found a good model for April!\"!\n",
    "\n",
    "We can use the `gamma.pdf` function in `scipy.stats.distributions` to plot the distributions implied by the calculated alphas and betas. Yes, yes, I know, we have not introduced scipy official yet..\n",
    "\n",
    "\n",
    "\n",
    "```python\n",
    "from scipy.stats.distributions import gamma\n",
    "\n",
    "ualpha_posterior_mean = ...\n",
    "ubeta_posterior_mean = ...\n",
    "\n",
    "precip.Apr.hist(normed=True, bins=20)\n",
    "plt.plot(np.linspace(0, 25), gamma.pdf(np.linspace(0, 25), ualpha_posterior_mean, ubeta_posterior_mean))\n",
    "```"
   ]
  },
  {
   "cell_type": "code",
   "execution_count": 11,
   "metadata": {},
   "outputs": [],
   "source": [
    "from pymc3 import Model, Uniform\n",
    "with Model() as rainfall_model:\n",
    "    ualpha = Uniform('ualpha', lower=0, upper=15)\n",
    "    ubeta = Uniform('ubeta', lower=0, upper=15)"
   ]
  },
  {
   "cell_type": "code",
   "execution_count": 12,
   "metadata": {},
   "outputs": [],
   "source": [
    "from pymc3 import Gamma\n",
    "with rainfall_model:\n",
    "    april_like = Gamma('april_like', alpha=ualpha, beta=ubeta, observed=precip.Apr)"
   ]
  },
  {
   "cell_type": "code",
   "execution_count": 13,
   "metadata": {},
   "outputs": [
    {
     "name": "stderr",
     "output_type": "stream",
     "text": [
      "Average Loss = 368.14: 100%|██████████| 10000/10000 [00:12<00:00, 788.26it/s]\n",
      "Finished [100%]: Average Loss = 368\n"
     ]
    }
   ],
   "source": [
    "from pymc3 import fit\n",
    "\n",
    "with rainfall_model: \n",
    "    rainfall_trace = fit(random_seed=RANDOM_SEED).sample(1000)"
   ]
  },
  {
   "cell_type": "code",
   "execution_count": 14,
   "metadata": {},
   "outputs": [
    {
     "name": "stderr",
     "output_type": "stream",
     "text": [
      "/Users/ramesh0101/anaconda3/lib/python3.7/site-packages/pymc3/plots/__init__.py:40: UserWarning: Keyword argument `varnames` renamed to `var_names`, and will be removed in pymc3 3.8\n",
      "  warnings.warn('Keyword argument `{old}` renamed to `{new}`, and will be removed in pymc3 3.8'.format(old=old, new=new))\n"
     ]
    },
    {
     "data": {
      "image/png": "[encoded data removed]",
      "text/plain": [
       "<Figure size 993.6x331.2 with 2 Axes>"
      ]
     },
     "metadata": {
      "needs_background": "light"
     },
     "output_type": "display_data"
    }
   ],
   "source": [
    "from pymc3 import plot_posterior\n",
    "\n",
    "plot_posterior(rainfall_trace[100:], \n",
    "                varnames=['ualpha', 'ubeta'],\n",
    "                color='#87ceeb');"
   ]
  },
  {
   "cell_type": "markdown",
   "metadata": {},
   "source": []
  },
  {
   "cell_type": "code",
   "execution_count": 36,
   "metadata": {},
   "outputs": [],
   "source": [
    "from scipy.stats.distributions import gamma\n",
    "\n",
    "ualpha_posterior_mean = 11\n",
    "ubeta_posterior_mean = 2.7\n"
   ]
  },
  {
   "cell_type": "code",
   "execution_count": 37,
   "metadata": {},
   "outputs": [
    {
     "name": "stderr",
     "output_type": "stream",
     "text": [
      "/Users/ramesh0101/anaconda3/lib/python3.7/site-packages/pandas/plotting/_core.py:2481: MatplotlibDeprecationWarning: \n",
      "The 'normed' kwarg was deprecated in Matplotlib 2.1 and will be removed in 3.1. Use 'density' instead.\n",
      "  ax.hist(values, bins=bins, **kwds)\n"
     ]
    },
    {
     "data": {
      "text/plain": [
       "[<matplotlib.lines.Line2D at 0x1c230eedd8>]"
      ]
     },
     "execution_count": 37,
     "metadata": {},
     "output_type": "execute_result"
    },
    {
     "data": {
      "image/png": "[encoded data removed]",
      "text/plain": [
       "<Figure size 432x288 with 1 Axes>"
      ]
     },
     "metadata": {
      "needs_background": "light"
     },
     "output_type": "display_data"
    }
   ],
   "source": [
    "precip.Apr.hist(normed=True, bins=20)\n",
    "plt.plot(np.linspace(0, 25), gamma.pdf(np.linspace(0, 25), ualpha_posterior_mean, ubeta_posterior_mean))"
   ]
  },
  {
   "cell_type": "markdown",
   "metadata": {},
   "source": [
    "Possible that some of my hyperparameters were not ideal. Hmm.. does anyone want to try different ones and improve on what professor's model using the Uniform distribution as a hyperparameter, for extra credit?"
   ]
  },
  {
   "cell_type": "markdown",
   "metadata": {},
   "source": [
    "### Exercise 2:\n",
    "\n",
    "Did the Uniform distribution work out well in your modeling exercise above? Well, it didn't for professor!\n",
    "\n",
    "Let's try the `Normal` distribution instead. Please make sure to introduce **new** variables for your priors (xxxalpha, xxxbeta), as well as your simulation trace (xxxapril_like). Replace xxx with whatever you want.\n",
    "\n",
    "What's the right support for the normal (the right mean and standard deviation)? Pick a mean that centers the gaussian around the peak of the month, and a standard deviation that allows the gaussian to cover all the data."
   ]
  },
  {
   "cell_type": "code",
   "execution_count": 17,
   "metadata": {},
   "outputs": [],
   "source": [
    "from pymc3 import Model, Normal\n",
    "with Model() as rainfall_model_n:\n",
    "    nalpha = Normal('nalpha', 4.5, sd=2)\n",
    "    nbeta = Normal('nbeta', 4.5, sd=2)"
   ]
  },
  {
   "cell_type": "code",
   "execution_count": 18,
   "metadata": {},
   "outputs": [
    {
     "name": "stderr",
     "output_type": "stream",
     "text": [
      "/Users/ramesh0101/anaconda3/lib/python3.7/site-packages/pymc3/distributions/continuous.py:88: UserWarning: The variable specified for alpha has negative support for Gamma, likely making it unsuitable for this parameter.\n",
      "  warnings.warn(msg)\n",
      "/Users/ramesh0101/anaconda3/lib/python3.7/site-packages/pymc3/distributions/continuous.py:88: UserWarning: The variable specified for beta has negative support for Gamma, likely making it unsuitable for this parameter.\n",
      "  warnings.warn(msg)\n"
     ]
    }
   ],
   "source": [
    "from pymc3 import Gamma\n",
    "with rainfall_model_n:\n",
    "    april_like_n = Gamma('april_like_n', alpha=nalpha, beta=nbeta, observed=precip.Apr)"
   ]
  },
  {
   "cell_type": "code",
   "execution_count": 19,
   "metadata": {},
   "outputs": [
    {
     "name": "stderr",
     "output_type": "stream",
     "text": [
      "Average Loss = 336.77: 100%|██████████| 10000/10000 [00:12<00:00, 800.10it/s]\n",
      "Finished [100%]: Average Loss = 336.48\n"
     ]
    }
   ],
   "source": [
    "from pymc3 import fit\n",
    "\n",
    "with rainfall_model_n: \n",
    "    rainfall_trace_n = fit(random_seed=RANDOM_SEED).sample(1000)"
   ]
  },
  {
   "cell_type": "code",
   "execution_count": 20,
   "metadata": {},
   "outputs": [
    {
     "name": "stderr",
     "output_type": "stream",
     "text": [
      "/Users/ramesh0101/anaconda3/lib/python3.7/site-packages/pymc3/plots/__init__.py:40: UserWarning: Keyword argument `varnames` renamed to `var_names`, and will be removed in pymc3 3.8\n",
      "  warnings.warn('Keyword argument `{old}` renamed to `{new}`, and will be removed in pymc3 3.8'.format(old=old, new=new))\n"
     ]
    },
    {
     "data": {
      "image/png": "[encoded data removed]",
      "text/plain": [
       "<Figure size 993.6x331.2 with 2 Axes>"
      ]
     },
     "metadata": {
      "needs_background": "light"
     },
     "output_type": "display_data"
    }
   ],
   "source": [
    "from pymc3 import plot_posterior\n",
    "\n",
    "plot_posterior(rainfall_trace_n[100:], \n",
    "                varnames=['nalpha', 'nbeta'],\n",
    "                color='#87ceeb');"
   ]
  },
  {
   "cell_type": "code",
   "execution_count": 21,
   "metadata": {},
   "outputs": [],
   "source": [
    "from scipy.stats.distributions import gamma\n",
    "\n",
    "nalpha_posterior_mean = 7\n",
    "nbeta_posterior_mean = 1.8\n"
   ]
  },
  {
   "cell_type": "code",
   "execution_count": 22,
   "metadata": {},
   "outputs": [
    {
     "name": "stderr",
     "output_type": "stream",
     "text": [
      "/Users/ramesh0101/anaconda3/lib/python3.7/site-packages/pandas/plotting/_core.py:2481: MatplotlibDeprecationWarning: \n",
      "The 'normed' kwarg was deprecated in Matplotlib 2.1 and will be removed in 3.1. Use 'density' instead.\n",
      "  ax.hist(values, bins=bins, **kwds)\n"
     ]
    },
    {
     "data": {
      "text/plain": [
       "[<matplotlib.lines.Line2D at 0x1c2229b6d8>]"
      ]
     },
     "execution_count": 22,
     "metadata": {},
     "output_type": "execute_result"
    },
    {
     "data": {
      "image/png": "[encoded data removed]",
      "text/plain": [
       "<Figure size 432x288 with 1 Axes>"
      ]
     },
     "metadata": {
      "needs_background": "light"
     },
     "output_type": "display_data"
    }
   ],
   "source": [
    "precip.Apr.hist(normed=True, bins=20)\n",
    "plt.plot(np.linspace(0, 25), gamma.pdf(np.linspace(0, 25), nalpha_posterior_mean, nbeta_posterior_mean))\n"
   ]
  },
  {
   "cell_type": "markdown",
   "metadata": {},
   "source": [
    "### Exercise 3: \n",
    "\n",
    "Let's try to accelerate things and try the exponential distribution, instead. Find the right number $x$ so that the distribution covers the range of possible precipitation values.  In other words, find the right value $y$ such that `Exponential.dist(1/3).random(size=10000)` covers from 0 to 12 for the month of April. Try different values out by plotting with:\n",
    "\n",
    "```python\n",
    "sns.distplot(Exponential.dist(1/3).random(size=10000), kde=False);\n",
    "```\n"
   ]
  },
  {
   "cell_type": "code",
   "execution_count": 59,
   "metadata": {},
   "outputs": [
    {
     "name": "stderr",
     "output_type": "stream",
     "text": [
      "/Users/ramesh0101/anaconda3/lib/python3.7/site-packages/scipy/stats/stats.py:1713: FutureWarning: Using a non-tuple sequence for multidimensional indexing is deprecated; use `arr[tuple(seq)]` instead of `arr[seq]`. In the future this will be interpreted as an array index, `arr[np.array(seq)]`, which will result either in an error or a different result.\n",
      "  return np.add.reduce(sorted[indexer] * weights, axis=axis) / sumval\n"
     ]
    },
    {
     "data": {
      "image/png": "[encoded data removed]",
      "text/plain": [
       "<Figure size 432x288 with 1 Axes>"
      ]
     },
     "metadata": {
      "needs_background": "light"
     },
     "output_type": "display_data"
    }
   ],
   "source": [
    "from pymc3 import Exponential\n",
    "sns.distplot(Exponential.dist(1/3).random(size=1000), kde=False)\n",
    "\n",
    "#please continue to next block"
   ]
  },
  {
   "cell_type": "code",
   "execution_count": 70,
   "metadata": {},
   "outputs": [],
   "source": [
    "from pymc3 import Model, Uniform,Gamma, Exponential\n",
    "\n",
    "with Model() as rainfall_model:\n",
    "    ealpha = Exponential('ealpha', 2/3)\n",
    "    ebeta = Exponential('ebeta', 2/3)\n",
    "\n",
    "with rainfall_model:\n",
    "    april_like = Gamma('april_like', alpha=ealpha, beta=ebeta, observed=precip.Apr)"
   ]
  },
  {
   "cell_type": "code",
   "execution_count": 71,
   "metadata": {},
   "outputs": [
    {
     "name": "stderr",
     "output_type": "stream",
     "text": [
      "Average Loss = 320.22: 100%|██████████| 10000/10000 [00:13<00:00, 761.90it/s]\n",
      "Finished [100%]: Average Loss = 320.13\n"
     ]
    }
   ],
   "source": [
    "from pymc3 import fit\n",
    "\n",
    "with rainfall_model: \n",
    "    rainfall_trace_e = fit(random_seed=RANDOM_SEED).sample(1000)"
   ]
  },
  {
   "cell_type": "code",
   "execution_count": 72,
   "metadata": {},
   "outputs": [
    {
     "name": "stderr",
     "output_type": "stream",
     "text": [
      "/Users/ramesh0101/anaconda3/lib/python3.7/site-packages/pymc3/plots/__init__.py:40: UserWarning: Keyword argument `varnames` renamed to `var_names`, and will be removed in pymc3 3.8\n",
      "  warnings.warn('Keyword argument `{old}` renamed to `{new}`, and will be removed in pymc3 3.8'.format(old=old, new=new))\n"
     ]
    },
    {
     "data": {
      "image/png": "[encoded data removed]",
      "text/plain": [
       "<Figure size 993.6x331.2 with 2 Axes>"
      ]
     },
     "metadata": {
      "needs_background": "light"
     },
     "output_type": "display_data"
    }
   ],
   "source": [
    "from pymc3 import plot_posterior\n",
    "\n",
    "plot_posterior(rainfall_trace_e[100:], \n",
    "                varnames=['ealpha', 'ebeta'],\n",
    "                color='#87ceeb');"
   ]
  },
  {
   "cell_type": "code",
   "execution_count": 73,
   "metadata": {},
   "outputs": [
    {
     "name": "stderr",
     "output_type": "stream",
     "text": [
      "/Users/ramesh0101/anaconda3/lib/python3.7/site-packages/pandas/plotting/_core.py:2481: MatplotlibDeprecationWarning: \n",
      "The 'normed' kwarg was deprecated in Matplotlib 2.1 and will be removed in 3.1. Use 'density' instead.\n",
      "  ax.hist(values, bins=bins, **kwds)\n"
     ]
    },
    {
     "data": {
      "text/plain": [
       "[<matplotlib.lines.Line2D at 0x1c2a74ed68>]"
      ]
     },
     "execution_count": 73,
     "metadata": {},
     "output_type": "execute_result"
    },
    {
     "data": {
      "image/png": "[encoded data removed]",
      "text/plain": [
       "<Figure size 432x288 with 1 Axes>"
      ]
     },
     "metadata": {
      "needs_background": "light"
     },
     "output_type": "display_data"
    }
   ],
   "source": [
    "from scipy.stats.distributions import gamma\n",
    "\n",
    "ealpha_expo_mean = 2.4\n",
    "ebeta_expo_mean = 0.55\n",
    "\n",
    "precip.Apr.hist(normed=True, bins=20)\n",
    "plt.plot(np.linspace(0, 25), gamma.pdf(np.linspace(0, 25), ealpha_expo_mean, ebeta_expo_mean))"
   ]
  },
  {
   "cell_type": "markdown",
   "metadata": {},
   "source": [
    "This exponential distribution covers the values for the month of April"
   ]
  },
  {
   "cell_type": "markdown",
   "metadata": {},
   "source": [
    "### Exercise 4:\n",
    "\n",
    "Do the month of January."
   ]
  },
  {
   "cell_type": "markdown",
   "metadata": {},
   "source": [
    "# Uniform Distribution for month of January"
   ]
  },
  {
   "cell_type": "code",
   "execution_count": 24,
   "metadata": {},
   "outputs": [],
   "source": [
    "from pymc3 import Model, Uniform\n",
    "with Model() as rainfall_model_u_jan:\n",
    "    ualpha_jan = Uniform('ualpha_jan', lower=0, upper=15)\n",
    "    ubeta_jan = Uniform('ubeta_jan', lower=0, upper=15)"
   ]
  },
  {
   "cell_type": "code",
   "execution_count": 25,
   "metadata": {},
   "outputs": [],
   "source": [
    "from pymc3 import Gamma\n",
    "with rainfall_model_u_jan:\n",
    "    jan_like = Gamma('january_like', alpha=ualpha_jan, beta=ubeta_jan, observed=precip.Jan)"
   ]
  },
  {
   "cell_type": "code",
   "execution_count": 26,
   "metadata": {},
   "outputs": [
    {
     "name": "stderr",
     "output_type": "stream",
     "text": [
      "Average Loss = 433.67: 100%|██████████| 10000/10000 [00:12<00:00, 781.18it/s]\n",
      "Finished [100%]: Average Loss = 433.46\n"
     ]
    }
   ],
   "source": [
    "from pymc3 import fit\n",
    "\n",
    "with rainfall_model_u_jan: \n",
    "    rainfall_trace_u_jan = fit(random_seed=RANDOM_SEED).sample(1000)"
   ]
  },
  {
   "cell_type": "code",
   "execution_count": 27,
   "metadata": {},
   "outputs": [
    {
     "name": "stderr",
     "output_type": "stream",
     "text": [
      "/Users/ramesh0101/anaconda3/lib/python3.7/site-packages/pymc3/plots/__init__.py:40: UserWarning: Keyword argument `varnames` renamed to `var_names`, and will be removed in pymc3 3.8\n",
      "  warnings.warn('Keyword argument `{old}` renamed to `{new}`, and will be removed in pymc3 3.8'.format(old=old, new=new))\n"
     ]
    },
    {
     "data": {
      "image/png": "[encoded data removed]",
      "text/plain": [
       "<Figure size 993.6x331.2 with 2 Axes>"
      ]
     },
     "metadata": {
      "needs_background": "light"
     },
     "output_type": "display_data"
    }
   ],
   "source": [
    "from pymc3 import plot_posterior\n",
    "\n",
    "plot_posterior(rainfall_trace_u_jan[100:], \n",
    "                varnames=['ualpha_jan', 'ubeta_jan'],\n",
    "                color='#87ceeb')"
   ]
  },
  {
   "cell_type": "code",
   "execution_count": 28,
   "metadata": {},
   "outputs": [],
   "source": [
    "from scipy.stats.distributions import gamma\n",
    "\n",
    "ualpha_jan_posterior_mean = 11\n",
    "ubeta_jan_posterior_mean = 2.4"
   ]
  },
  {
   "cell_type": "code",
   "execution_count": 29,
   "metadata": {},
   "outputs": [
    {
     "name": "stderr",
     "output_type": "stream",
     "text": [
      "/Users/ramesh0101/anaconda3/lib/python3.7/site-packages/pandas/plotting/_core.py:2481: MatplotlibDeprecationWarning: \n",
      "The 'normed' kwarg was deprecated in Matplotlib 2.1 and will be removed in 3.1. Use 'density' instead.\n",
      "  ax.hist(values, bins=bins, **kwds)\n"
     ]
    },
    {
     "data": {
      "text/plain": [
       "[<matplotlib.lines.Line2D at 0x1c2307fd68>]"
      ]
     },
     "execution_count": 29,
     "metadata": {},
     "output_type": "execute_result"
    },
    {
     "data": {
      "image/png": "[encoded data removed]",
      "text/plain": [
       "<Figure size 432x288 with 1 Axes>"
      ]
     },
     "metadata": {
      "needs_background": "light"
     },
     "output_type": "display_data"
    }
   ],
   "source": [
    "precip.Jan.hist(normed=True, bins=20)\n",
    "plt.plot(np.linspace(0, 25), gamma.pdf(np.linspace(0, 25), ualpha_jan_posterior_mean, ubeta_jan_posterior_mean))\n"
   ]
  },
  {
   "cell_type": "markdown",
   "metadata": {},
   "source": [
    "# Normal Distribution for month of January"
   ]
  },
  {
   "cell_type": "code",
   "execution_count": 30,
   "metadata": {},
   "outputs": [],
   "source": [
    "from pymc3 import Model, Normal\n",
    "with Model() as rainfall_model_n_jan:\n",
    "    nalpha_jan = Normal('nalpha_jan', 5, sd=4)\n",
    "    nbeta_jan = Normal('nbeta_jan', 5, sd=4)"
   ]
  },
  {
   "cell_type": "code",
   "execution_count": 31,
   "metadata": {},
   "outputs": [
    {
     "name": "stderr",
     "output_type": "stream",
     "text": [
      "/Users/ramesh0101/anaconda3/lib/python3.7/site-packages/pymc3/distributions/continuous.py:88: UserWarning: The variable specified for alpha has negative support for Gamma, likely making it unsuitable for this parameter.\n",
      "  warnings.warn(msg)\n",
      "/Users/ramesh0101/anaconda3/lib/python3.7/site-packages/pymc3/distributions/continuous.py:88: UserWarning: The variable specified for beta has negative support for Gamma, likely making it unsuitable for this parameter.\n",
      "  warnings.warn(msg)\n"
     ]
    }
   ],
   "source": [
    "from pymc3 import Gamma\n",
    "with rainfall_model_n_jan:\n",
    "    jan_like_n = Gamma('jan_like_n', alpha=nalpha_jan, beta=nbeta_jan, observed=precip.Jan)"
   ]
  },
  {
   "cell_type": "code",
   "execution_count": 32,
   "metadata": {},
   "outputs": [
    {
     "name": "stderr",
     "output_type": "stream",
     "text": [
      "Average Loss = 422.93: 100%|██████████| 10000/10000 [00:12<00:00, 802.70it/s]\n",
      "Finished [100%]: Average Loss = 422.3\n"
     ]
    }
   ],
   "source": [
    "from pymc3 import fit\n",
    "\n",
    "with rainfall_model_n_jan: \n",
    "    rainfall_trace_n_jan = fit(random_seed=RANDOM_SEED).sample(1000)"
   ]
  },
  {
   "cell_type": "code",
   "execution_count": 33,
   "metadata": {},
   "outputs": [
    {
     "name": "stderr",
     "output_type": "stream",
     "text": [
      "/Users/ramesh0101/anaconda3/lib/python3.7/site-packages/pymc3/plots/__init__.py:40: UserWarning: Keyword argument `varnames` renamed to `var_names`, and will be removed in pymc3 3.8\n",
      "  warnings.warn('Keyword argument `{old}` renamed to `{new}`, and will be removed in pymc3 3.8'.format(old=old, new=new))\n"
     ]
    },
    {
     "data": {
      "image/png": "[encoded data removed]",
      "text/plain": [
       "<Figure size 993.6x331.2 with 2 Axes>"
      ]
     },
     "metadata": {
      "needs_background": "light"
     },
     "output_type": "display_data"
    }
   ],
   "source": [
    "from pymc3 import plot_posterior\n",
    "\n",
    "plot_posterior(rainfall_trace_n_jan[100:], \n",
    "                varnames=['nalpha_jan', 'nbeta_jan'],\n",
    "                color='#87ceeb');"
   ]
  },
  {
   "cell_type": "code",
   "execution_count": 34,
   "metadata": {},
   "outputs": [],
   "source": [
    "from scipy.stats.distributions import gamma\n",
    "\n",
    "nalpha_posterior_mean_jan = 7.8\n",
    "nbeta_posterior_mean_jan = 2.1"
   ]
  },
  {
   "cell_type": "code",
   "execution_count": 35,
   "metadata": {},
   "outputs": [
    {
     "name": "stderr",
     "output_type": "stream",
     "text": [
      "/Users/ramesh0101/anaconda3/lib/python3.7/site-packages/pandas/plotting/_core.py:2481: MatplotlibDeprecationWarning: \n",
      "The 'normed' kwarg was deprecated in Matplotlib 2.1 and will be removed in 3.1. Use 'density' instead.\n",
      "  ax.hist(values, bins=bins, **kwds)\n"
     ]
    },
    {
     "data": {
      "text/plain": [
       "[<matplotlib.lines.Line2D at 0x1c229accc0>]"
      ]
     },
     "execution_count": 35,
     "metadata": {},
     "output_type": "execute_result"
    },
    {
     "data": {
      "image/png": "[encoded data removed]",
      "text/plain": [
       "<Figure size 432x288 with 1 Axes>"
      ]
     },
     "metadata": {
      "needs_background": "light"
     },
     "output_type": "display_data"
    }
   ],
   "source": [
    "precip.Jan.hist(normed=True, bins=20)\n",
    "plt.plot(np.linspace(0, 25), gamma.pdf(np.linspace(0, 25), nalpha_posterior_mean_jan, nbeta_posterior_mean_jan))\n"
   ]
  },
  {
   "cell_type": "markdown",
   "metadata": {},
   "source": [
    "### (Deep thought) Exercise 5:\n",
    "\n",
    "How would you model *all* months together (*one* model, *all* months)? Is that even possible?"
   ]
  },
  {
   "cell_type": "markdown",
   "metadata": {},
   "source": [
    "### Alpha and beta means from all the months for uniform distribution"
   ]
  },
  {
   "cell_type": "code",
   "execution_count": 53,
   "metadata": {},
   "outputs": [],
   "source": [
    "Means_alpha = {'Jan':7.4,'Feb': 7.4, 'Mar':7.5,'Apr':8,'May': 9,'Jun': 8.5,\n",
    "               'Jul': 7.6,'Aug': 8.2,'Sep': 6.5,'Oct': 6.8,'Nov': 7.4,'Dec': 7.2}"
   ]
  },
  {
   "cell_type": "code",
   "execution_count": 54,
   "metadata": {},
   "outputs": [],
   "source": [
    "Means_beta = {'Jan': 2.1,'Feb': 2.2,'Mar': 2.3,'Apr': 2.3,'May': 2.4,'Jun': 2.5,\n",
    "              'Jul': 2.8,'Aug': 2.7,'Sep': 2.5,'Oct': 2.6,'Nov': 2.7,'Dec': 1.9}"
   ]
  },
  {
   "cell_type": "code",
   "execution_count": 52,
   "metadata": {},
   "outputs": [
    {
     "name": "stderr",
     "output_type": "stream",
     "text": [
      "/Users/ramesh0101/anaconda3/lib/python3.7/site-packages/pandas/plotting/_core.py:2413: MatplotlibDeprecationWarning: \n",
      "The 'normed' kwarg was deprecated in Matplotlib 2.1 and will be removed in 3.1. Use 'density' instead.\n",
      "  ax.hist(data[col].dropna().values, bins=bins, **kwds)\n",
      "/Users/ramesh0101/anaconda3/lib/python3.7/site-packages/pandas/plotting/_core.py:2413: MatplotlibDeprecationWarning: \n",
      "The 'normed' kwarg was deprecated in Matplotlib 2.1 and will be removed in 3.1. Use 'density' instead.\n",
      "  ax.hist(data[col].dropna().values, bins=bins, **kwds)\n",
      "/Users/ramesh0101/anaconda3/lib/python3.7/site-packages/pandas/plotting/_core.py:2413: MatplotlibDeprecationWarning: \n",
      "The 'normed' kwarg was deprecated in Matplotlib 2.1 and will be removed in 3.1. Use 'density' instead.\n",
      "  ax.hist(data[col].dropna().values, bins=bins, **kwds)\n",
      "/Users/ramesh0101/anaconda3/lib/python3.7/site-packages/pandas/plotting/_core.py:2413: MatplotlibDeprecationWarning: \n",
      "The 'normed' kwarg was deprecated in Matplotlib 2.1 and will be removed in 3.1. Use 'density' instead.\n",
      "  ax.hist(data[col].dropna().values, bins=bins, **kwds)\n",
      "/Users/ramesh0101/anaconda3/lib/python3.7/site-packages/pandas/plotting/_core.py:2413: MatplotlibDeprecationWarning: \n",
      "The 'normed' kwarg was deprecated in Matplotlib 2.1 and will be removed in 3.1. Use 'density' instead.\n",
      "  ax.hist(data[col].dropna().values, bins=bins, **kwds)\n",
      "/Users/ramesh0101/anaconda3/lib/python3.7/site-packages/pandas/plotting/_core.py:2413: MatplotlibDeprecationWarning: \n",
      "The 'normed' kwarg was deprecated in Matplotlib 2.1 and will be removed in 3.1. Use 'density' instead.\n",
      "  ax.hist(data[col].dropna().values, bins=bins, **kwds)\n",
      "/Users/ramesh0101/anaconda3/lib/python3.7/site-packages/pandas/plotting/_core.py:2413: MatplotlibDeprecationWarning: \n",
      "The 'normed' kwarg was deprecated in Matplotlib 2.1 and will be removed in 3.1. Use 'density' instead.\n",
      "  ax.hist(data[col].dropna().values, bins=bins, **kwds)\n",
      "/Users/ramesh0101/anaconda3/lib/python3.7/site-packages/pandas/plotting/_core.py:2413: MatplotlibDeprecationWarning: \n",
      "The 'normed' kwarg was deprecated in Matplotlib 2.1 and will be removed in 3.1. Use 'density' instead.\n",
      "  ax.hist(data[col].dropna().values, bins=bins, **kwds)\n",
      "/Users/ramesh0101/anaconda3/lib/python3.7/site-packages/pandas/plotting/_core.py:2413: MatplotlibDeprecationWarning: \n",
      "The 'normed' kwarg was deprecated in Matplotlib 2.1 and will be removed in 3.1. Use 'density' instead.\n",
      "  ax.hist(data[col].dropna().values, bins=bins, **kwds)\n",
      "/Users/ramesh0101/anaconda3/lib/python3.7/site-packages/pandas/plotting/_core.py:2413: MatplotlibDeprecationWarning: \n",
      "The 'normed' kwarg was deprecated in Matplotlib 2.1 and will be removed in 3.1. Use 'density' instead.\n",
      "  ax.hist(data[col].dropna().values, bins=bins, **kwds)\n",
      "/Users/ramesh0101/anaconda3/lib/python3.7/site-packages/pandas/plotting/_core.py:2413: MatplotlibDeprecationWarning: \n",
      "The 'normed' kwarg was deprecated in Matplotlib 2.1 and will be removed in 3.1. Use 'density' instead.\n",
      "  ax.hist(data[col].dropna().values, bins=bins, **kwds)\n",
      "/Users/ramesh0101/anaconda3/lib/python3.7/site-packages/pandas/plotting/_core.py:2413: MatplotlibDeprecationWarning: \n",
      "The 'normed' kwarg was deprecated in Matplotlib 2.1 and will be removed in 3.1. Use 'density' instead.\n",
      "  ax.hist(data[col].dropna().values, bins=bins, **kwds)\n"
     ]
    },
    {
     "data": {
      "image/png": "[encoded data removed]",
      "text/plain": [
       "<Figure size 864x576 with 12 Axes>"
      ]
     },
     "metadata": {
      "needs_background": "light"
     },
     "output_type": "display_data"
    }
   ],
   "source": [
    "from scipy.stats.distributions import gamma\n",
    "axs = precip.hist(normed=True, figsize=(12, 8), sharex=True, sharey=True, bins=15, grid=True)\n",
    "\n",
    "for ax in axs.ravel():\n",
    "\n",
    "    # Get month\n",
    "    m = str(ax.get_title())\n",
    "\n",
    "    # Plot fitted distribution\n",
    "    x = np.linspace(*ax.get_xlim())\n",
    "    ax.plot(x, gamma.pdf(x, Means_alpha[m], Means_beta[m]))\n",
    "\n",
    "    # Annotate with parameter estimates\n",
    "    label = 'alpha = {0:.2f}\\nbeta = {1:.2f}'.format(Means_alpha[m], Means_beta[m])\n",
    "    ax.annotate(label, xy=(10, 0.2))\n",
    "\n",
    "plt.tight_layout()"
   ]
  }
 ],
 "metadata": {
  "kernelspec": {
   "display_name": "Python 3",
   "language": "python",
   "name": "python3"
  },
  "language_info": {
   "codemirror_mode": {
    "name": "ipython",
    "version": 3
   },
   "file_extension": ".py",
   "mimetype": "text/x-python",
   "name": "python",
   "nbconvert_exporter": "python",
   "pygments_lexer": "ipython3",
   "version": "3.7.6"
  }
 },
 "nbformat": 4,
 "nbformat_minor": 2
}
